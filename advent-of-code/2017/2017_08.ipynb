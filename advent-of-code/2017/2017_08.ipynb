{
 "cells": [
  {
   "cell_type": "code",
   "execution_count": 2,
   "metadata": {},
   "outputs": [],
   "source": [
    "import sys\n",
    "sys.path.insert(0, \"/Library/Python/2.7/site-packages\") #acod\n",
    "sys.path.insert(0, \"/System/Library/Frameworks/Python.framework/Versions/2.7/Extras/lib/python\") #acod dependency\n",
    "import aocd"
   ]
  },
  {
   "cell_type": "code",
   "execution_count": 50,
   "metadata": {},
   "outputs": [],
   "source": [
    "data = aocd.get_data(\"session_id\",8,2017)"
   ]
  },
  {
   "cell_type": "code",
   "execution_count": 51,
   "metadata": {},
   "outputs": [],
   "source": [
    "data = [line.split(' ', 4) for line in data.split('\\n')]"
   ]
  },
  {
   "cell_type": "code",
   "execution_count": 52,
   "metadata": {},
   "outputs": [],
   "source": [
    "def initialize_registers(data):\n",
    "    registers = set()\n",
    "    registers |= set([line[0] for line in data])\n",
    "    return dict.fromkeys(registers, 0)\n",
    "\n",
    "registers = initialize_registers(data)"
   ]
  },
  {
   "cell_type": "code",
   "execution_count": 53,
   "metadata": {},
   "outputs": [],
   "source": [
    "def exec_condition(register, operator, value):\n",
    "    if operator == '==':\n",
    "        return register == value\n",
    "    elif operator == '!=':\n",
    "        return register != value\n",
    "    elif operator == '<':\n",
    "        return register < value\n",
    "    elif operator == '<=':\n",
    "        return register <= value\n",
    "    elif operator == '>':\n",
    "        return register > value\n",
    "    elif operator == '>=':    \n",
    "        return register >= value\n",
    "    else:\n",
    "        return false\n",
    "\n",
    "def update_register(registers, register, operation, value):\n",
    "    current_value = registers[register]\n",
    "    if operation == 'inc':\n",
    "        registers[register] = current_value + value\n",
    "    else:\n",
    "        registers[register] = current_value - value\n",
    "    return registers    "
   ]
  },
  {
   "cell_type": "code",
   "execution_count": 54,
   "metadata": {},
   "outputs": [],
   "source": [
    "#part 1 and part 2\n",
    "def compute_max_register(registers, data):\n",
    "    max_during_process = []\n",
    "    for line in data:\n",
    "        conditions = line[4].split()\n",
    "        if exec_condition(registers[conditions[0]], conditions[1], int(conditions[2])):\n",
    "                          registers = update_register(registers, line[0], line[1], int(line[2]))\n",
    "                          max_during_process.append(max(registers.values()))\n",
    "        \n",
    "    return max(registers.values()), max_during_process\n",
    "\n",
    "max_register, max_during_process = compute_max_register(registers, data)"
   ]
  },
  {
   "cell_type": "code",
   "execution_count": 55,
   "metadata": {},
   "outputs": [
    {
     "data": {
      "text/plain": [
       "3818"
      ]
     },
     "execution_count": 55,
     "metadata": {},
     "output_type": "execute_result"
    }
   ],
   "source": [
    "max(max_during_process)"
   ]
  }
 ],
 "metadata": {
  "kernelspec": {
   "display_name": "Python 2",
   "language": "python",
   "name": "python2"
  },
  "language_info": {
   "codemirror_mode": {
    "name": "ipython",
    "version": 2
   },
   "file_extension": ".py",
   "mimetype": "text/x-python",
   "name": "python",
   "nbconvert_exporter": "python",
   "pygments_lexer": "ipython2",
   "version": "2.7.14"
  }
 },
 "nbformat": 4,
 "nbformat_minor": 2
}
