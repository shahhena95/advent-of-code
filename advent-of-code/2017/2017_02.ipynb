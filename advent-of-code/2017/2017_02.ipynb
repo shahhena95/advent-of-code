{
 "cells": [
  {
   "cell_type": "code",
   "execution_count": 3,
   "metadata": {},
   "outputs": [],
   "source": [
    "import sys\n",
    "sys.path.insert(0, \"/Library/Python/2.7/site-packages\") #acod\n",
    "sys.path.insert(0, \"/System/Library/Frameworks/Python.framework/Versions/2.7/Extras/lib/python\") #acod dependency"
   ]
  },
  {
   "cell_type": "code",
   "execution_count": 21,
   "metadata": {},
   "outputs": [],
   "source": [
    "import aocd\n",
    "input_data = aocd.get_data(session=\"53616c7465645f5f51687d84c2dfe78a29cc10b8f7229b420668017a5b0fabfaeb360c5a2cd461d5f5898982f5a5db94\", day=2, year=2017)\n",
    "input_data = str(input_data)\n",
    "input_data = [s.strip() for s in input_data.splitlines()]"
   ]
  },
  {
   "cell_type": "code",
   "execution_count": 39,
   "metadata": {},
   "outputs": [],
   "source": [
    "def get_min_max(row):\n",
    "    row = row.split('\\t')\n",
    "    row = map(int, row)\n",
    "    return(max(row)- min(row))"
   ]
  },
  {
   "cell_type": "code",
   "execution_count": 43,
   "metadata": {},
   "outputs": [
    {
     "name": "stdout",
     "output_type": "stream",
     "text": [
      "21845\n"
     ]
    }
   ],
   "source": [
    "result = 0\n",
    "for each in input_data: \n",
    "    result += get_min_max(each)\n",
    "print result    "
   ]
  },
  {
   "cell_type": "code",
   "execution_count": null,
   "metadata": {},
   "outputs": [],
   "source": [
    "#trying similar to 2017_01. make enumerable for sum(). Is not working currently. \n",
    "def solve(data):\n",
    "    return sum(int(data[i]) \n",
    "               for each in range(len(data)) \n",
    "               x = get_min_max(each)"
   ]
  }
 ],
 "metadata": {
  "kernelspec": {
   "display_name": "Python 2",
   "language": "python",
   "name": "python2"
  },
  "language_info": {
   "codemirror_mode": {
    "name": "ipython",
    "version": 2
   },
   "file_extension": ".py",
   "mimetype": "text/x-python",
   "name": "python",
   "nbconvert_exporter": "python",
   "pygments_lexer": "ipython2",
   "version": "2.7.14"
  }
 },
 "nbformat": 4,
 "nbformat_minor": 2
}
