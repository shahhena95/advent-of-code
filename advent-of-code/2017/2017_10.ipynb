{
 "cells": [
  {
   "cell_type": "code",
   "execution_count": 118,
   "metadata": {
    "collapsed": true
   },
   "outputs": [
    {
     "name": "stderr",
     "output_type": "stream",
     "text": [
      "\u001b[31mERROR: AoC session ID is needed to get your puzzle data!\u001b[0m\n",
      "\u001b[31mYou can find it in your browser cookies after login.\u001b[0m\n",
      "\u001b[31m    1) Save the cookie into a text file /Users/henashah/.aocdrc, or\u001b[0m\n",
      "\u001b[31m    2) Export the cookie in environment variable AOC_SESSION\u001b[0m\n"
     ]
    }
   ],
   "source": [
    "import sys\n",
    "sys.path.insert(0, \"/Library/Python/2.7/site-packages\") #acod\n",
    "sys.path.insert(0, \"/System/Library/Frameworks/Python.framework/Versions/2.7/Extras/lib/python\") #acod dependency\n",
    "import aocd"
   ]
  },
  {
   "cell_type": "code",
   "execution_count": 77,
   "metadata": {},
   "outputs": [],
   "source": [
    "data = [97, 167, 54, 178, 2, 11, 209, 174, 119, 248, 254, 0, 255, 1, 64, 190]"
   ]
  },
  {
   "cell_type": "code",
   "execution_count": 117,
   "metadata": {},
   "outputs": [
    {
     "data": {
      "text/plain": [
       "[15, 141]"
      ]
     },
     "execution_count": 117,
     "metadata": {},
     "output_type": "execute_result"
    }
   ],
   "source": [
    "def gen_list():\n",
    "    return list(range(256))\n",
    "\n",
    "std_list = gen_list()\n",
    "\n",
    "def reverse_sublist(std_list, start, end):\n",
    "    if start < end:\n",
    "        std_list[start:end] = std_list[start:end][::-1]\n",
    "        return std_list\n",
    "    else:\n",
    "        first_half = std_list[start:]\n",
    "        second_half = std_list[:end]\n",
    "        reverse = first_half + second_half\n",
    "        reverse = reverse[::-1]\n",
    "        std_list[start:] = reverse[:256-start]\n",
    "        std_list[:end] = reverse[256-start:]\n",
    "        return std_list\n",
    "    \n",
    "\n",
    "def knot_hash(data, std_list):\n",
    "    skip_size = 0\n",
    "    current_pos = 0\n",
    "    start = 0\n",
    "    for length in data:\n",
    "#         if length > 256: \n",
    "#             not needed because data does not have anything >256\n",
    "            \n",
    "        if start + length < 256:\n",
    "            std_list = reverse_sublist(std_list, start, start + length)\n",
    "        else:\n",
    "            std_list = reverse_sublist(std_list, start, (start + length) - 256)\n",
    "       \n",
    "        current_pos += length + skip_size\n",
    "        skip_size += 1\n",
    "        start = current_pos % 256\n",
    "        \n",
    "    return std_list[:2]  \n",
    "\n",
    "knot_hash(data, std_list)"
   ]
  },
  {
   "cell_type": "code",
   "execution_count": 116,
   "metadata": {
    "collapsed": true
   },
   "outputs": [
    {
     "name": "stdout",
     "output_type": "stream",
     "text": [
      "1122\n",
      "1560\n",
      "6006\n",
      "43472\n",
      "42\n",
      "40200\n",
      "2652\n",
      "6162\n",
      "1482\n",
      "2100\n",
      "2115\n"
     ]
    }
   ],
   "source": [
    "#wrong\n",
    "print 33*34\n",
    "print 39*40\n",
    "print 78*77\n",
    "print 208*209\n",
    "print 7*6\n",
    "print 201*200\n",
    "print 52*51\n",
    "print 78*79\n",
    "print 39*38\n",
    "print 15 * 140\n",
    "print 15 * 141"
   ]
  },
  {
   "cell_type": "code",
   "execution_count": 115,
   "metadata": {},
   "outputs": [
    {
     "name": "stdout",
     "output_type": "stream",
     "text": [
      "[1, 2, 3, 4, 5, 6, 7, 8, 9, 10]\n",
      "[10, 9, 8, 7, 6, 5, 4, 3, 2, 1]\n",
      "[9, 10, 1, 2, 3]\n",
      "[9, 10] [1, 2, 3] [3, 2, 1, 10, 9]\n",
      "[1, 10, 9, 4, 5, 6, 7, 8, 3, 2]\n"
     ]
    }
   ],
   "source": [
    "x = [1,2,3,4,5,6,7,8,9,10]\n",
    "# reverse_sublist(x, 4, 3)\n",
    "print x\n",
    "print x[::-1]\n",
    "start, end = 8, 3\n",
    "first_half = x[start:]\n",
    "second_half = x[:end]\n",
    "reverse = first_half + second_half\n",
    "print reverse\n",
    "reverse = reverse[::-1]\n",
    "print first_half, second_half, reverse\n",
    "\n",
    "# print reverse, reverse[:10-start], reverse[10-start-end:] wrong\n",
    "\n",
    "x[start:] = reverse[:10-start]\n",
    "x[:end] = reverse[10-start:]\n",
    "print x\n",
    "# x[2:6] = x[2:6][::-1]\n",
    "# print x"
   ]
  }
 ],
 "metadata": {
  "kernelspec": {
   "display_name": "Python 2",
   "language": "python",
   "name": "python2"
  },
  "language_info": {
   "codemirror_mode": {
    "name": "ipython",
    "version": 2
   },
   "file_extension": ".py",
   "mimetype": "text/x-python",
   "name": "python",
   "nbconvert_exporter": "python",
   "pygments_lexer": "ipython2",
   "version": "2.7.14"
  }
 },
 "nbformat": 4,
 "nbformat_minor": 2
}
