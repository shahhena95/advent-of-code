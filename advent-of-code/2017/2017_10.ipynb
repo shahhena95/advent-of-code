{
 "cells": [
  {
   "cell_type": "code",
   "execution_count": 119,
   "metadata": {},
   "outputs": [],
   "source": [
    "data = [97, 167, 54, 178, 2, 11, 209, 174, 119, 248, 254, 0, 255, 1, 64, 190]\n",
    "\n",
    "def reverse_sublist(std_list, start, end):\n",
    "    if start <= end:\n",
    "        std_list[start:end] = std_list[start:end][::-1]\n",
    "        return std_list\n",
    "    else:\n",
    "        first_half = std_list[start:]\n",
    "        second_half = std_list[:end]\n",
    "        reverse = first_half + second_half\n",
    "        reverse = reverse[::-1]\n",
    "        std_list[start:] = reverse[:256-start]\n",
    "        std_list[:end] = reverse[256-start:]\n",
    "        return std_list\n",
    "    \n",
    "\n",
    "def knot_hash(data):\n",
    "    std_list = list(range(256))\n",
    "    \n",
    "    skip_size = 0\n",
    "    current_pos = 0\n",
    "    start = 0\n",
    "    for length in data:\n",
    "        if length > 256: \n",
    "            continue\n",
    "        start = current_pos % 256\n",
    "        if start + length < 256:\n",
    "            std_list = reverse_sublist(std_list, start, start + length)\n",
    "        else:\n",
    "            std_list = reverse_sublist(std_list, start, (start + length) - 256)\n",
    "       \n",
    "        current_pos += length + skip_size\n",
    "        skip_size += 1\n",
    "        \n",
    "    return std_list[:2], std_list[0] * std_list[1]  \n",
    "\n",
    "knot_hash(data)"
   ]
  }
 ],
 "metadata": {
  "kernelspec": {
   "display_name": "Python 2",
   "language": "python",
   "name": "python2"
  },
  "language_info": {
   "codemirror_mode": {
    "name": "ipython",
    "version": 2
   },
   "file_extension": ".py",
   "mimetype": "text/x-python",
   "name": "python",
   "nbconvert_exporter": "python",
   "pygments_lexer": "ipython2",
   "version": "2.7.14"
  }
 },
 "nbformat": 4,
 "nbformat_minor": 2
}
