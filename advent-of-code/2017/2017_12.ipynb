{
 "cells": [
  {
   "cell_type": "code",
   "execution_count": 4,
   "metadata": {
    "collapsed": true
   },
   "outputs": [
    {
     "name": "stderr",
     "output_type": "stream",
     "text": [
      "\u001b[31mERROR: AoC session ID is needed to get your puzzle data!\u001b[0m\n",
      "\u001b[31mYou can find it in your browser cookies after login.\u001b[0m\n",
      "\u001b[31m    1) Save the cookie into a text file /Users/henashah/.aocdrc, or\u001b[0m\n",
      "\u001b[31m    2) Export the cookie in environment variable AOC_SESSION\u001b[0m\n"
     ]
    }
   ],
   "source": [
    "import sys\n",
    "sys.path.insert(0, \"/Library/Python/2.7/site-packages\") #acod\n",
    "sys.path.insert(0, \"/System/Library/Frameworks/Python.framework/Versions/2.7/Extras/lib/python\") #acod dependency\n",
    "import aocd"
   ]
  },
  {
   "cell_type": "code",
   "execution_count": 123,
   "metadata": {},
   "outputs": [],
   "source": [
    "data = aocd.get_data(\"session_id\",12,2017)"
   ]
  },
  {
   "cell_type": "code",
   "execution_count": 124,
   "metadata": {},
   "outputs": [],
   "source": [
    "data = [line.split(' <-> ') for line in data.split('\\n')]"
   ]
  },
  {
   "cell_type": "code",
   "execution_count": 125,
   "metadata": {},
   "outputs": [],
   "source": [
    "def get_graph(data):\n",
    "    graph = {}\n",
    "    for node in data:\n",
    "        children = map(int, node[1].split(','))\n",
    "        graph[int(node[0])] = [children, False] #use boolean for identifying 0 as parent in part1 and as is_visited in part2\n",
    "    \n",
    "    return graph\n",
    "\n",
    "graph = get_graph(data)"
   ]
  },
  {
   "cell_type": "code",
   "execution_count": 106,
   "metadata": {},
   "outputs": [],
   "source": [
    "# part 1 [Improve complexity]\n",
    "def digital_plumber(graph):\n",
    "    graph[0][1] = True\n",
    "    keys = graph.keys()\n",
    "    for outer_loop in keys:\n",
    "        for i in keys:\n",
    "            for child in graph[i][0]:\n",
    "                if graph[i][1] == True:\n",
    "                    graph[child][1] = True\n",
    "    \n",
    "    return graph\n",
    "\n",
    "def get_contains0_count(graph):\n",
    "    count = 0\n",
    "    keys = graph.keys()\n",
    "    for i in keys:\n",
    "        if True in graph[i]:\n",
    "            count +=1\n",
    "    print count        \n",
    "\n",
    "get_contains0_count(digital_plumber(graph))"
   ]
  },
  {
   "cell_type": "code",
   "execution_count": 126,
   "metadata": {},
   "outputs": [],
   "source": [
    "#part 2\n",
    "def connected_components(graph):\n",
    "    count = 0\n",
    "    keys = graph.keys()\n",
    "    for i in keys:\n",
    "        if graph[i][1] == False:\n",
    "            visit(i, graph)\n",
    "            count += 1\n",
    "    return count        \n",
    "\n",
    "def visit(i, graph):\n",
    "    graph[i][1] = True\n",
    "    \n",
    "    for child in graph[i][0]:\n",
    "        if graph[child][1] == False:\n",
    "            visit(child, graph)\n",
    "\n",
    "connected_components(graph)"
   ]
  }
 ],
 "metadata": {
  "kernelspec": {
   "display_name": "Python 2",
   "language": "python",
   "name": "python2"
  },
  "language_info": {
   "codemirror_mode": {
    "name": "ipython",
    "version": 2
   },
   "file_extension": ".py",
   "mimetype": "text/x-python",
   "name": "python",
   "nbconvert_exporter": "python",
   "pygments_lexer": "ipython2",
   "version": "2.7.14"
  }
 },
 "nbformat": 4,
 "nbformat_minor": 2
}
