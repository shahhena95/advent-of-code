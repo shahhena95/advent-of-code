{
 "cells": [
  {
   "cell_type": "code",
   "execution_count": 2,
   "metadata": {
    "collapsed": true
   },
   "outputs": [
    {
     "name": "stderr",
     "output_type": "stream",
     "text": [
      "\u001b[31mERROR: AoC session ID is needed to get your puzzle data!\u001b[0m\n",
      "\u001b[31mYou can find it in your browser cookies after login.\u001b[0m\n",
      "\u001b[31m    1) Save the cookie into a text file /Users/henashah/.aocdrc, or\u001b[0m\n",
      "\u001b[31m    2) Export the cookie in environment variable AOC_SESSION\u001b[0m\n"
     ]
    }
   ],
   "source": [
    "import sys\n",
    "sys.path.insert(0, \"/System/Library/Frameworks/Python.framework/Versions/2.7/Extras/lib/python\")\n",
    "sys.path.insert(0, \"/Library/Python/2.7/site-packages\")\n",
    "import aocd"
   ]
  },
  {
   "cell_type": "code",
   "execution_count": 10,
   "metadata": {},
   "outputs": [],
   "source": [
    "input_data = aocd.get_data(session=\"session_id\", day=4, year=2017)"
   ]
  },
  {
   "cell_type": "code",
   "execution_count": 23,
   "metadata": {},
   "outputs": [],
   "source": [
    "data = [line.split(' ') for line in input_data.split('\\n')]"
   ]
  },
  {
   "cell_type": "code",
   "execution_count": 24,
   "metadata": {},
   "outputs": [
    {
     "data": {
      "text/plain": [
       "466"
      ]
     },
     "execution_count": 24,
     "metadata": {},
     "output_type": "execute_result"
    }
   ],
   "source": [
    "len([each for each in data if len(each) == len(set(each))])"
   ]
  },
  {
   "cell_type": "code",
   "execution_count": 47,
   "metadata": {},
   "outputs": [
    {
     "data": {
      "text/plain": [
       "251"
      ]
     },
     "execution_count": 47,
     "metadata": {},
     "output_type": "execute_result"
    }
   ],
   "source": [
    "def sort_letters_in_word(word):\n",
    "    return ''.join(sorted(word))\n",
    "\n",
    "def has_anagram(word_list):\n",
    "    \"\"\"\n",
    "    A word list has an anagram if the number of words in that list is different from the number of unique words built by sorting all the letters in those words.\n",
    "    \"\"\"\n",
    "    return len(word_list) == len(set(map(sort_letters_in_word, word_list)))\n",
    "    \n",
    "len(filter(has_anagram, data))\n"
   ]
  }
 ],
 "metadata": {
  "kernelspec": {
   "display_name": "Python 2",
   "language": "python",
   "name": "python2"
  },
  "language_info": {
   "codemirror_mode": {
    "name": "ipython",
    "version": 2
   },
   "file_extension": ".py",
   "mimetype": "text/x-python",
   "name": "python",
   "nbconvert_exporter": "python",
   "pygments_lexer": "ipython2",
   "version": "2.7.14"
  }
 },
 "nbformat": 4,
 "nbformat_minor": 2
}
