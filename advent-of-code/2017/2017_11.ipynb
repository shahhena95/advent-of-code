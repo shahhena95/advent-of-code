{
 "cells": [
  {
   "cell_type": "code",
   "execution_count": 45,
   "metadata": {},
   "outputs": [],
   "source": [
    "import sys\n",
    "sys.path.insert(0, \"/Library/Python/2.7/site-packages\") #acod\n",
    "sys.path.insert(0, \"/System/Library/Frameworks/Python.framework/Versions/2.7/Extras/lib/python\") #acod dependency\n",
    "import aocd"
   ]
  },
  {
   "cell_type": "code",
   "execution_count": 68,
   "metadata": {},
   "outputs": [],
   "source": [
    "data = aocd.get_data(\"session_id\",11,2017)"
   ]
  },
  {
   "cell_type": "code",
   "execution_count": 69,
   "metadata": {},
   "outputs": [],
   "source": [
    "data = data.split(',')"
   ]
  },
  {
   "cell_type": "code",
   "execution_count": 70,
   "metadata": {},
   "outputs": [],
   "source": [
    "def plot_hex_on_axis():\n",
    "    return {\n",
    "        'ne': (1, 1),\n",
    "        'se': (1, -1) ,\n",
    "        's': (0, -2),\n",
    "        'sw': (-1, -1),\n",
    "        'nw': (-1, 1),\n",
    "        'n': (0, 2)\n",
    "    }\n",
    "\n",
    "plot = plot_hex_on_axis()"
   ]
  },
  {
   "cell_type": "code",
   "execution_count": 72,
   "metadata": {},
   "outputs": [
    {
     "data": {
      "text/plain": [
       "(834, 1569)"
      ]
     },
     "execution_count": 72,
     "metadata": {},
     "output_type": "execute_result"
    }
   ],
   "source": [
    "def find_min_steps(data, plot):\n",
    "    current = (0,0)\n",
    "    furthest = 0\n",
    "    for step in data:\n",
    "        current = (current[0]+plot[step][0], current[1]+plot[step][1])\n",
    "        dist = (abs(current[0]) + abs(current[1])) / 2\n",
    "        furthest = max(dist, furthest)\n",
    "    return dist, furthest\n",
    "\n",
    "find_min_steps(data, plot)"
   ]
  }
 ],
 "metadata": {
  "kernelspec": {
   "display_name": "Python 2",
   "language": "python",
   "name": "python2"
  },
  "language_info": {
   "codemirror_mode": {
    "name": "ipython",
    "version": 2
   },
   "file_extension": ".py",
   "mimetype": "text/x-python",
   "name": "python",
   "nbconvert_exporter": "python",
   "pygments_lexer": "ipython2",
   "version": "2.7.14"
  }
 },
 "nbformat": 4,
 "nbformat_minor": 2
}
