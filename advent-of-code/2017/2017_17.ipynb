{
 "cells": [
  {
   "cell_type": "code",
   "execution_count": null,
   "metadata": {},
   "outputs": [],
   "source": [
    "from collections import deque\n",
    "\n",
    "\n",
    "def spin(insertions):\n",
    "    spin_lock = deque([0])\n",
    "    for i in range(1, insertions+1):\n",
    "        spin_lock.rotate(-335)\n",
    "        spin_lock.append(i)\n",
    "    return spin_lock\n",
    "\n",
    "\n",
    "print(\"part 1\", spin(2017)[0])\n",
    "part_2 = list(spin(50000000))\n",
    "print(part_2[part_2.index(0)+1])"
   ]
  }
 ],
 "metadata": {
  "kernelspec": {
   "display_name": "Python 2",
   "language": "python",
   "name": "python2"
  },
  "language_info": {
   "codemirror_mode": {
    "name": "ipython",
    "version": 2
   },
   "file_extension": ".py",
   "mimetype": "text/x-python",
   "name": "python",
   "nbconvert_exporter": "python",
   "pygments_lexer": "ipython2",
   "version": "2.7.14"
  }
 },
 "nbformat": 4,
 "nbformat_minor": 2
}
