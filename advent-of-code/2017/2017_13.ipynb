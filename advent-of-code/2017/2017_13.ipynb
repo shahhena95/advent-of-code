{
 "cells": [
  {
   "cell_type": "code",
   "execution_count": 2,
   "metadata": {
    "scrolled": false
   },
   "outputs": [],
   "source": [
    "import sys\n",
    "sys.path.insert(0, \"/Library/Python/2.7/site-packages\") #acod\n",
    "sys.path.insert(0, \"/System/Library/Frameworks/Python.framework/Versions/2.7/Extras/lib/python\") #acod dependency\n",
    "import aocd"
   ]
  },
  {
   "cell_type": "code",
   "execution_count": 16,
   "metadata": {},
   "outputs": [],
   "source": [
    "data = aocd.get_data(\"session_id\", 13, 2017)"
   ]
  },
  {
   "cell_type": "code",
   "execution_count": 17,
   "metadata": {},
   "outputs": [],
   "source": [
    "data = data.split('\\n')\n",
    "data = [map(int, line.split(': ')) for line in data]\n",
    "firewall = dict(data)"
   ]
  },
  {
   "cell_type": "code",
   "execution_count": 72,
   "metadata": {},
   "outputs": [
    {
     "data": {
      "text/plain": [
       "788"
      ]
     },
     "execution_count": 72,
     "metadata": {},
     "output_type": "execute_result"
    }
   ],
   "source": [
    "# part 1\n",
    "def is_caught(depth, layer_range):\n",
    "#     if depth - layer_range <= 1:\n",
    "#         return False\n",
    "#     else: -- wrong. need to calculate w.r.t length of scanner cycle, not just for zero\n",
    "     return depth%(2 *(layer_range - 1)) == 0\n",
    "\n",
    "def severity(firewall):\n",
    "    severity_sum = 0\n",
    "    for depth in firewall.keys():\n",
    "        if is_caught(depth, firewall[depth]):\n",
    "            severity_sum += depth * firewall[depth]\n",
    "    \n",
    "    return severity_sum\n",
    "\n",
    "severity(firewall)"
   ]
  },
  {
   "cell_type": "code",
   "execution_count": 75,
   "metadata": {},
   "outputs": [
    {
     "name": "stdout",
     "output_type": "stream",
     "text": [
      "3905748\n"
     ]
    }
   ],
   "source": [
    "#part 2\n",
    "\n",
    "def is_caught_with_delay(firewall, delay=0):\n",
    "    for depth in firewall.keys():\n",
    "        if is_caught(depth + delay, firewall[depth]):\n",
    "            return True\n",
    "        \n",
    "    return False\n",
    "\n",
    "def get_delay(firewall):\n",
    "    delay = 3000000 #if started from 0, takes too long. manual work around\n",
    "    while is_caught_with_delay(firewall, delay):\n",
    "        delay += 1\n",
    "        \n",
    "    print delay    \n",
    "\n",
    "get_delay(firewall)"
   ]
  }
 ],
 "metadata": {
  "kernelspec": {
   "display_name": "Python 2",
   "language": "python",
   "name": "python2"
  },
  "language_info": {
   "codemirror_mode": {
    "name": "ipython",
    "version": 2
   },
   "file_extension": ".py",
   "mimetype": "text/x-python",
   "name": "python",
   "nbconvert_exporter": "python",
   "pygments_lexer": "ipython2",
   "version": "2.7.14"
  }
 },
 "nbformat": 4,
 "nbformat_minor": 2
}
