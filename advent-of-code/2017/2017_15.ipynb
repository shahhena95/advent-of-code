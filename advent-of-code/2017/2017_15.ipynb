{
 "cells": [
  {
   "cell_type": "code",
   "execution_count": 13,
   "metadata": {},
   "outputs": [],
   "source": [
    "import sys\n",
    "sys.path.insert(0, \"/Library/Python/2.7/site-packages\") #acod\n",
    "sys.path.insert(0, \"/System/Library/Frameworks/Python.framework/Versions/2.7/Extras/lib/python\") #acod dependency\n",
    "import aocd"
   ]
  },
  {
   "cell_type": "code",
   "execution_count": null,
   "metadata": {},
   "outputs": [],
   "source": [
    "\"\"\"\n",
    " For personal understanding\n",
    " LCS not suitable here: string comparison is expensive. Function call is expensive. Modulo is expensive\n",
    " https://ariya.io/2007/02/modulus-with-mersenne-prime\n",
    "\"\"\"\n",
    "\n",
    "def gen_number(gen):\n",
    "    \"\"\"\n",
    "    Computes the modulo with Mersenne prime 2147483647, where n = 31 [ M(n) = 2**n - 1]\n",
    "    \"\"\"\n",
    "    i = (gen & 2147483647) + (gen >> 31)\n",
    "    return (i - 2147483647) if i >= 2147483647 else i\n",
    "    \n",
    "def dueling_generators():\n",
    "    gen_a, gen_b = 277, 349\n",
    "    count = 0 \n",
    "    for i in range(0, 40000000):\n",
    "        gen_a = gen_number(gen_a * 16807)\n",
    "        gen_b = gen_number(gen_b * 48271)\n",
    "\n",
    "        if (gen_a & 65535) == (gen_b & 65535): \n",
    "            count += 1  \n",
    "    \n",
    "    return count\n",
    "\n",
    "dueling_generators()"
   ]
  },
  {
   "cell_type": "code",
   "execution_count": 98,
   "metadata": {},
   "outputs": [],
   "source": [
    "#part 2\n",
    "def gen_number(gen):\n",
    "    i = (gen & 2147483647) + (gen >> 31)\n",
    "    return (i - 2147483647) if i >= 2147483647 else i\n",
    "\n",
    "\n",
    "def gen_multiples(gen_a, gen_b):\n",
    "    gen_a = gen_number(gen_a * 16807)\n",
    "    gen_b = gen_number(gen_b * 48271)\n",
    "    \n",
    "    while gen_a % 4 != 0:\n",
    "        gen_a = gen_number(gen_a * 16807)\n",
    "        \n",
    "    while gen_b % 8 != 0:\n",
    "        gen_b = gen_number(gen_b * 48271)\n",
    "        \n",
    "    return gen_a, gen_b    \n",
    "\n",
    "\n",
    "def dueling_generators_extended():\n",
    "    gen_a, gen_b = 277, 349\n",
    "    count = 0 \n",
    "    for i in range(0, 5000000):\n",
    "        gen_a, gen_b = gen_multiples(gen_a, gen_b)\n",
    "        if (gen_a & 65535) == (gen_b & 65535): \n",
    "            count += 1  \n",
    "    \n",
    "    return count    \n",
    "\n",
    "dueling_generators_extended()"
   ]
  }
 ],
 "metadata": {
  "kernelspec": {
   "display_name": "Python 2",
   "language": "python",
   "name": "python2"
  },
  "language_info": {
   "codemirror_mode": {
    "name": "ipython",
    "version": 2
   },
   "file_extension": ".py",
   "mimetype": "text/x-python",
   "name": "python",
   "nbconvert_exporter": "python",
   "pygments_lexer": "ipython2",
   "version": "2.7.14"
  }
 },
 "nbformat": 4,
 "nbformat_minor": 2
}
