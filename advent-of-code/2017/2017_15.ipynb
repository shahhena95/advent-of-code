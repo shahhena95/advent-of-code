{
 "cells": [
  {
   "cell_type": "code",
   "execution_count": 13,
   "metadata": {},
   "outputs": [],
   "source": [
    "import sys\n",
    "sys.path.insert(0, \"/Library/Python/2.7/site-packages\") #acod\n",
    "sys.path.insert(0, \"/System/Library/Frameworks/Python.framework/Versions/2.7/Extras/lib/python\") #acod dependency\n",
    "import aocd"
   ]
  },
  {
   "cell_type": "code",
   "execution_count": null,
   "metadata": {},
   "outputs": [],
   "source": [
    "# comments for personal understanding"
   ]
  },
  {
   "cell_type": "code",
   "execution_count": 78,
   "metadata": {},
   "outputs": [],
   "source": [
    "# from difflib import SequenceMatcher takes >3minutes. LCS not suitable here: string comparison is always expensive\n",
    "# Don't make string. try something with int itself\n",
    "def find_match(gen_a, gen_b):\n",
    "    if (gen_a & 65535) == (gen_b & 65535): \n",
    "        return True\n",
    "\n",
    "# https://ariya.io/2007/02/modulus-with-mersenne-prime\n",
    "def gen_number(gen):\n",
    "    i = (gen & 2147483647) + (gen >> 31)\n",
    "    return (i - 2147483647) if i >= 2147483647 else i\n",
    "    \n",
    "#use bitwise?\n",
    "def dueling_generators():\n",
    "    gen_a, gen_b = 277, 349\n",
    "    count = 0 \n",
    "    for i in range(0, 40000000):\n",
    "        gen_a = gen_number(gen_a * 16807)\n",
    "        gen_b = gen_number(gen_b * 48271)\n",
    "#         gen_a = (gen_a * 16807) % 2147483647 #multiplication, modulo expensive\n",
    "#         gen_b = (gen_b * 48271) % 2147483647\n",
    "        \n",
    "        if (gen_a & 65535) == (gen_b & 65535): #function call expensive\n",
    "            count += 1  \n",
    "    \n",
    "    return count"
   ]
  },
  {
   "cell_type": "code",
   "execution_count": 79,
   "metadata": {},
   "outputs": [
    {
     "data": {
      "text/plain": [
       "592"
      ]
     },
     "execution_count": 79,
     "metadata": {},
     "output_type": "execute_result"
    }
   ],
   "source": [
    "dueling_generators()"
   ]
  },
  {
   "cell_type": "code",
   "execution_count": 92,
   "metadata": {},
   "outputs": [],
   "source": [
    "#part 2\n",
    "def find_match(gen_a, gen_b):\n",
    "    if (gen_a & 65535) == (gen_b & 65535): \n",
    "        return True\n",
    "\n",
    "    \n",
    "def gen_number(gen):\n",
    "    i = (gen & 2147483647) + (gen >> 31)\n",
    "    return (i - 2147483647) if i >= 2147483647 else i\n",
    "\n",
    "\n",
    "def gen_multiples(gen_a, gen_b):\n",
    "    gen_a = gen_number(gen_a * 16807)\n",
    "    gen_b = gen_number(gen_b * 48271)\n",
    "    \n",
    "    while gen_a % 4 != 0:\n",
    "        gen_a = gen_number(gen_a * 16807)\n",
    "        \n",
    "    while gen_b % 8 != 0:\n",
    "        gen_b = gen_number(gen_b * 48271)\n",
    "        \n",
    "    return gen_a, gen_b    \n",
    "    \n",
    "\n",
    "def dueling_generators_extended():\n",
    "    gen_a, gen_b = 277, 349\n",
    "    count = 0 \n",
    "    for i in range(0, 50000000):\n",
    "        gen_a, gen_b = gen_multiples(gen_a, gen_b)\n",
    "        if (gen_a & 65535) == (gen_b & 65535): \n",
    "            count += 1  \n",
    "    \n",
    "    return count    "
   ]
  },
  {
   "cell_type": "code",
   "execution_count": 93,
   "metadata": {},
   "outputs": [
    {
     "data": {
      "text/plain": [
       "2925"
      ]
     },
     "execution_count": 93,
     "metadata": {},
     "output_type": "execute_result"
    }
   ],
   "source": [
    "dueling_generators_extended()"
   ]
  }
 ],
 "metadata": {
  "kernelspec": {
   "display_name": "Python 2",
   "language": "python",
   "name": "python2"
  },
  "language_info": {
   "codemirror_mode": {
    "name": "ipython",
    "version": 2
   },
   "file_extension": ".py",
   "mimetype": "text/x-python",
   "name": "python",
   "nbconvert_exporter": "python",
   "pygments_lexer": "ipython2",
   "version": "2.7.14"
  }
 },
 "nbformat": 4,
 "nbformat_minor": 2
}
