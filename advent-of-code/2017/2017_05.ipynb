{
 "cells": [
  {
   "cell_type": "code",
   "execution_count": 5,
   "metadata": {
    "collapsed": true
   },
   "outputs": [
    {
     "name": "stderr",
     "output_type": "stream",
     "text": [
      "\u001b[31mERROR: AoC session ID is needed to get your puzzle data!\u001b[0m\n",
      "\u001b[31mYou can find it in your browser cookies after login.\u001b[0m\n",
      "\u001b[31m    1) Save the cookie into a text file /Users/henashah/.aocdrc, or\u001b[0m\n",
      "\u001b[31m    2) Export the cookie in environment variable AOC_SESSION\u001b[0m\n"
     ]
    }
   ],
   "source": [
    "import sys\n",
    "sys.path.insert(0, \"/Library/Python/2.7/site-packages\") #acod\n",
    "sys.path.insert(0, \"/System/Library/Frameworks/Python.framework/Versions/2.7/Extras/lib/python\") #acod dependency\n",
    "import aocd"
   ]
  },
  {
   "cell_type": "code",
   "execution_count": 39,
   "metadata": {},
   "outputs": [],
   "source": [
    "data = aocd.get_data(\"session_id\",5,2017)"
   ]
  },
  {
   "cell_type": "code",
   "execution_count": 40,
   "metadata": {},
   "outputs": [],
   "source": [
    "data = [int(value) for value in data.split('\\n')]"
   ]
  },
  {
   "cell_type": "code",
   "execution_count": 24,
   "metadata": {},
   "outputs": [],
   "source": [
    "def find_exit_1(instructions):\n",
    "    \"\"\"\n",
    "    This function returns the out of bound instruction as exit instruction offset\n",
    "    \"\"\"\n",
    "    i = steps = 0\n",
    "    while i < len(instructions):\n",
    "        current_offset = instructions[i]\n",
    "        instructions[i] += 1\n",
    "        i += current_offset\n",
    "        steps += 1\n",
    "       \n",
    "    return steps        "
   ]
  },
  {
   "cell_type": "code",
   "execution_count": 25,
   "metadata": {},
   "outputs": [
    {
     "data": {
      "text/plain": [
       "315613"
      ]
     },
     "execution_count": 25,
     "metadata": {},
     "output_type": "execute_result"
    }
   ],
   "source": [
    "find_exit_1(data)"
   ]
  },
  {
   "cell_type": "code",
   "execution_count": 41,
   "metadata": {},
   "outputs": [],
   "source": [
    "def find_exit_2(instructions):\n",
    "    \n",
    "    i = steps = 0\n",
    "    while i < len(instructions):\n",
    "        current_offset = instructions[i]\n",
    "        if current_offset >= 3:\n",
    "            instructions[i] -= 1\n",
    "        else:    \n",
    "            instructions[i] += 1\n",
    "        i += current_offset\n",
    "        steps += 1\n",
    "       \n",
    "    return steps"
   ]
  },
  {
   "cell_type": "code",
   "execution_count": 42,
   "metadata": {},
   "outputs": [
    {
     "name": "stdout",
     "output_type": "stream",
     "text": [
      "22570529\n"
     ]
    }
   ],
   "source": [
    "print find_exit_2(data)"
   ]
  },
  {
   "cell_type": "code",
   "execution_count": null,
   "metadata": {},
   "outputs": [],
   "source": []
  }
 ],
 "metadata": {
  "kernelspec": {
   "display_name": "Python 2",
   "language": "python",
   "name": "python2"
  },
  "language_info": {
   "codemirror_mode": {
    "name": "ipython",
    "version": 2
   },
   "file_extension": ".py",
   "mimetype": "text/x-python",
   "name": "python",
   "nbconvert_exporter": "python",
   "pygments_lexer": "ipython2",
   "version": "2.7.14"
  }
 },
 "nbformat": 4,
 "nbformat_minor": 2
}
