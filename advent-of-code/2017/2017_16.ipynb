{
 "cells": [
  {
   "cell_type": "code",
   "execution_count": 2,
   "metadata": {},
   "outputs": [
    {
     "name": "stderr",
     "output_type": "stream",
     "text": [
      "\u001b[31mERROR: AoC session ID is needed to get your puzzle data!\u001b[0m\n",
      "\u001b[31mYou can find it in your browser cookies after login.\u001b[0m\n",
      "\u001b[31m    1) Save the cookie into a text file /Users/henashah/.aocdrc, or\u001b[0m\n",
      "\u001b[31m    2) Export the cookie in environment variable AOC_SESSION\u001b[0m\n"
     ]
    }
   ],
   "source": [
    "import sys\n",
    "sys.path.insert(0, \"/Library/Python/2.7/site-packages\") #acod\n",
    "sys.path.insert(0, \"/System/Library/Frameworks/Python.framework/Versions/2.7/Extras/lib/python\") #acod dependency\n",
    "import aocd"
   ]
  },
  {
   "cell_type": "code",
   "execution_count": 3,
   "metadata": {},
   "outputs": [],
   "source": [
    "data = aocd.get_data(\"53616c7465645f5f51687d84c2dfe78a29cc10b8f7229b420668017a5b0fabfaeb360c5a2cd461d5f5898982f5a5db94\", 16, 2017)\n",
    "\n",
    "def process_data(data):\n",
    "    data = data.split(',')\n",
    "    return data\n",
    "\n",
    "data = process_data(data)"
   ]
  },
  {
   "cell_type": "code",
   "execution_count": 4,
   "metadata": {},
   "outputs": [
    {
     "name": "stdout",
     "output_type": "stream",
     "text": [
      "doeaimlbnpjchfkg\n"
     ]
    }
   ],
   "source": [
    "#part 1\n",
    "def spin(dance, n):\n",
    "    return dance[-n:] + dance[:-n] \n",
    "\n",
    "\n",
    "def exchange(dance, step):\n",
    "    dance[step[0]], dance[step[1]] =  dance[step[1]], dance[step[0]]\n",
    "    return dance\n",
    "\n",
    "\n",
    "def swap(dance, step):\n",
    "    step[0] = dance.index(step[0])\n",
    "    step[1] = dance.index(step[1])\n",
    "    dance = exchange(dance, step)\n",
    "    return dance\n",
    "\n",
    "\n",
    "def process_moves(dance, moves, n):\n",
    "    dance = list(dance)\n",
    "    \n",
    "    for i in range(0, n):\n",
    "        for step in moves:\n",
    "            if step[0] == 's':\n",
    "                n = int(step.lstrip('s'))\n",
    "                dance = spin(dance, n)\n",
    "        \n",
    "            if step[0] == 'x':\n",
    "                step = step.lstrip('x')\n",
    "                step = map(int, step.split('/'))\n",
    "                dance = exchange(dance, step)\n",
    "            \n",
    "            if step[0] == 'p':\n",
    "                step = step.replace('p', '', 1)\n",
    "                step = step.split('/')\n",
    "                dance = swap(dance, step)\n",
    "        \n",
    "    print ''.join(dance)\n",
    "    \n",
    "    \n",
    "process_moves('abcdefghijklmnop', data, 1)        "
   ]
  },
  {
   "cell_type": "code",
   "execution_count": 7,
   "metadata": {},
   "outputs": [
    {
     "name": "stdout",
     "output_type": "stream",
     "text": [
      "agndefjhibklmocp\n"
     ]
    }
   ],
   "source": [
    "#part 2\n",
    "process_moves('abcdefghijklmnop', data, 10)   "
   ]
  }
 ],
 "metadata": {
  "kernelspec": {
   "display_name": "Python 2",
   "language": "python",
   "name": "python2"
  },
  "language_info": {
   "codemirror_mode": {
    "name": "ipython",
    "version": 2
   },
   "file_extension": ".py",
   "mimetype": "text/x-python",
   "name": "python",
   "nbconvert_exporter": "python",
   "pygments_lexer": "ipython2",
   "version": "2.7.14"
  }
 },
 "nbformat": 4,
 "nbformat_minor": 2
}
