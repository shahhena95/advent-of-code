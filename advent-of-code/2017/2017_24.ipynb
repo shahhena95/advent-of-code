{
 "cells": [
  {
   "cell_type": "code",
   "execution_count": 8,
   "metadata": {},
   "outputs": [],
   "source": [
    "import sys\n",
    "sys.path.insert(0, \"/Library/Python/2.7/site-packages\") #acod\n",
    "sys.path.insert(0, \"/System/Library/Frameworks/Python.framework/Versions/2.7/Extras/lib/python\") #acod dependency\n",
    "import aocd"
   ]
  },
  {
   "cell_type": "code",
   "execution_count": 25,
   "metadata": {},
   "outputs": [],
   "source": [
    "# def get_data():\n",
    "#     data = aocd.get_data(\"53616c7465645f5f51687d84c2dfe78a29cc10b8f7229b420668017a5b0fabfaeb360c5a2cd461d5f5898982f5a5db94\", 24, 2017)\n",
    "#     data = data.split('\\n')\n",
    "#     data = [(map(int, row.split('/')), False) for row in data]\n",
    "#     return [row + (sum(row[0]),) for row in data] --- (1)\n",
    "# def ease_lookup(ports):\n",
    "#     left, right = {}, {} --- (2)\n",
    "#     for port in ports:\n",
    "#         left[port[0][0]] = port[0][1]\n",
    "#         right[port[0][1]] = port[0][0]\n",
    "#     return left, right \n",
    "# left, right = ease_lookup(get_data())\n",
    "# (1) avoid storing sum or visited in dict? just trace the path and check if current in visited\n",
    "# (2) avoid two dicts for lookup. Fun fact: for list with 2 elements, -1 is 1 ;)"
   ]
  },
  {
   "cell_type": "code",
   "execution_count": 51,
   "metadata": {},
   "outputs": [],
   "source": [
    "from collections import defaultdict, deque\n",
    "data = defaultdict(set)\n",
    "data = aocd.get_data(\"session_id\", 24, 2017)\n",
    "data = data.split('\\n')\n",
    "\n",
    "for line in data:\n",
    "    a, b = map(int, line.split('/'))\n",
    "    connections[a].add((a, b))\n",
    "    connections[b].add((a, b))\n",
    "\n",
    "start = ({0,0}, 0, 0)\n",
    "longest_strongest = (0, 0)\n",
    "que = deque([start])\n",
    "max_score = 0\n",
    "#bfs\n",
    "while que:\n",
    "    path, score, conn = que.popleft()\n",
    "    \n",
    "    if score > max_score:\n",
    "        max_score = score\n",
    "        \n",
    "    if (len(path), score) > longest_strongest:\n",
    "        longest_strongest = (len(path), score)\n",
    "        \n",
    "    for candidate in connections[conn]:\n",
    "        if candidate not in path:\n",
    "            new_conn = candidate[candidate.index(conn)-1]\n",
    "            new_score = score + sum(candidate)\n",
    "            new_path = path | {candidate}\n",
    "            que.append((new_path, new_score, new_conn))"
   ]
  },
  {
   "cell_type": "code",
   "execution_count": 54,
   "metadata": {},
   "outputs": [
    {
     "name": "stdout",
     "output_type": "stream",
     "text": [
      "1695\n",
      "1673\n"
     ]
    }
   ],
   "source": [
    "print max_score\n",
    "print longest_strongest[-1]"
   ]
  }
 ],
 "metadata": {
  "kernelspec": {
   "display_name": "Python 2",
   "language": "python",
   "name": "python2"
  },
  "language_info": {
   "codemirror_mode": {
    "name": "ipython",
    "version": 2
   },
   "file_extension": ".py",
   "mimetype": "text/x-python",
   "name": "python",
   "nbconvert_exporter": "python",
   "pygments_lexer": "ipython2",
   "version": "2.7.14"
  }
 },
 "nbformat": 4,
 "nbformat_minor": 2
}
