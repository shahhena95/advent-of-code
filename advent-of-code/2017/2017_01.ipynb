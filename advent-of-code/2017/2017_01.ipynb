{
 "cells": [
  {
   "cell_type": "code",
   "execution_count": 8,
   "metadata": {},
   "outputs": [],
   "source": [
    "import sys\n",
    "sys.path.insert(0, \"/System/Library/Frameworks/Python.framework/Versions/2.7/Extras/lib/python\")\n",
    "sys.path.insert(0, \"/Library/Python/2.7/site-packages\")\n",
    "import aocd"
   ]
  },
  {
   "cell_type": "code",
   "execution_count": 5,
   "metadata": {},
   "outputs": [],
   "source": [
    "data = aocd.get_data(session=\"53616c7465645f5f51687d84c2dfe78a29cc10b8f7229b420668017a5b0fabfaeb360c5a2cd461d5f5898982f5a5db94\", day=1, year=2017)"
   ]
  },
  {
   "cell_type": "code",
   "execution_count": 9,
   "metadata": {},
   "outputs": [
    {
     "data": {
      "text/plain": [
       "941"
      ]
     },
     "execution_count": 9,
     "metadata": {},
     "output_type": "execute_result"
    }
   ],
   "source": [
    "#this is shit but think of regex\n",
    "import re\n",
    "def solve(data, n):\n",
    "    return sum(int(c) for c in re.findall(r\"(\\d)(?=.{{{n-1}}}\\1)\", data+data[:n])) \n",
    "\n",
    "solve(data, 1)"
   ]
  },
  {
   "cell_type": "code",
   "execution_count": 10,
   "metadata": {},
   "outputs": [
    {
     "name": "stdout",
     "output_type": "stream",
     "text": [
      "1049\n",
      "1508\n"
     ]
    }
   ],
   "source": [
    "def solve(data, steps):\n",
    "    return sum(int(data[i]) #found new way of writing this, but need to know more about this. not clear yet\n",
    "               for i in range(len(data)) \n",
    "               if data[i] == data[(i+ steps)%len(data)])\n",
    "\n",
    "print solve(data, 1)\n",
    "print solve(data, len(data)/2)"
   ]
  }
 ],
 "metadata": {
  "kernelspec": {
   "display_name": "Python 2",
   "language": "python",
   "name": "python2"
  },
  "language_info": {
   "codemirror_mode": {
    "name": "ipython",
    "version": 2
   },
   "file_extension": ".py",
   "mimetype": "text/x-python",
   "name": "python",
   "nbconvert_exporter": "python",
   "pygments_lexer": "ipython2",
   "version": "2.7.14"
  }
 },
 "nbformat": 4,
 "nbformat_minor": 2
}
